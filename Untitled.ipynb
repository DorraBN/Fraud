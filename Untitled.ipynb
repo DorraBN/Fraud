{
 "cells": [
  {
   "cell_type": "code",
   "execution_count": 1,
   "id": "6de0b6ee",
   "metadata": {},
   "outputs": [
    {
     "data": {
      "text/html": [
       "<div>\n",
       "<style scoped>\n",
       "    .dataframe tbody tr th:only-of-type {\n",
       "        vertical-align: middle;\n",
       "    }\n",
       "\n",
       "    .dataframe tbody tr th {\n",
       "        vertical-align: top;\n",
       "    }\n",
       "\n",
       "    .dataframe thead th {\n",
       "        text-align: right;\n",
       "    }\n",
       "</style>\n",
       "<table border=\"1\" class=\"dataframe\">\n",
       "  <thead>\n",
       "    <tr style=\"text-align: right;\">\n",
       "      <th></th>\n",
       "      <th>Area_Name</th>\n",
       "      <th>Year</th>\n",
       "      <th>Group_Name</th>\n",
       "      <th>Sub_Group_Name</th>\n",
       "      <th>Loss_of_Property_1_10_Crores</th>\n",
       "      <th>Loss_of_Property_10_25_Crores</th>\n",
       "      <th>Loss_of_Property_25_50_Crores</th>\n",
       "      <th>Loss_of_Property_50_100_Crores</th>\n",
       "      <th>Loss_of_Property_Above_100_Crores</th>\n",
       "    </tr>\n",
       "  </thead>\n",
       "  <tbody>\n",
       "    <tr>\n",
       "      <th>0</th>\n",
       "      <td>Andhra Pradesh</td>\n",
       "      <td>2001</td>\n",
       "      <td>Serious Fraud - Cheating</td>\n",
       "      <td>2. Cheating</td>\n",
       "      <td>4.0</td>\n",
       "      <td>0.0</td>\n",
       "      <td>0.0</td>\n",
       "      <td>0.0</td>\n",
       "      <td>0.0</td>\n",
       "    </tr>\n",
       "    <tr>\n",
       "      <th>1</th>\n",
       "      <td>Arunachal Pradesh</td>\n",
       "      <td>2001</td>\n",
       "      <td>Serious Fraud - Cheating</td>\n",
       "      <td>2. Cheating</td>\n",
       "      <td>0.0</td>\n",
       "      <td>0.0</td>\n",
       "      <td>0.0</td>\n",
       "      <td>0.0</td>\n",
       "      <td>0.0</td>\n",
       "    </tr>\n",
       "    <tr>\n",
       "      <th>2</th>\n",
       "      <td>Assam</td>\n",
       "      <td>2001</td>\n",
       "      <td>Serious Fraud - Cheating</td>\n",
       "      <td>2. Cheating</td>\n",
       "      <td>0.0</td>\n",
       "      <td>0.0</td>\n",
       "      <td>0.0</td>\n",
       "      <td>0.0</td>\n",
       "      <td>0.0</td>\n",
       "    </tr>\n",
       "    <tr>\n",
       "      <th>3</th>\n",
       "      <td>Bihar</td>\n",
       "      <td>2001</td>\n",
       "      <td>Serious Fraud - Cheating</td>\n",
       "      <td>2. Cheating</td>\n",
       "      <td>0.0</td>\n",
       "      <td>0.0</td>\n",
       "      <td>0.0</td>\n",
       "      <td>0.0</td>\n",
       "      <td>0.0</td>\n",
       "    </tr>\n",
       "    <tr>\n",
       "      <th>4</th>\n",
       "      <td>Chandigarh</td>\n",
       "      <td>2001</td>\n",
       "      <td>Serious Fraud - Cheating</td>\n",
       "      <td>2. Cheating</td>\n",
       "      <td>0.0</td>\n",
       "      <td>0.0</td>\n",
       "      <td>0.0</td>\n",
       "      <td>0.0</td>\n",
       "      <td>0.0</td>\n",
       "    </tr>\n",
       "  </tbody>\n",
       "</table>\n",
       "</div>"
      ],
      "text/plain": [
       "           Area_Name  Year                Group_Name Sub_Group_Name  \\\n",
       "0     Andhra Pradesh  2001  Serious Fraud - Cheating   2. Cheating    \n",
       "1  Arunachal Pradesh  2001  Serious Fraud - Cheating   2. Cheating    \n",
       "2              Assam  2001  Serious Fraud - Cheating   2. Cheating    \n",
       "3              Bihar  2001  Serious Fraud - Cheating   2. Cheating    \n",
       "4         Chandigarh  2001  Serious Fraud - Cheating   2. Cheating    \n",
       "\n",
       "   Loss_of_Property_1_10_Crores  Loss_of_Property_10_25_Crores  \\\n",
       "0                           4.0                            0.0   \n",
       "1                           0.0                            0.0   \n",
       "2                           0.0                            0.0   \n",
       "3                           0.0                            0.0   \n",
       "4                           0.0                            0.0   \n",
       "\n",
       "   Loss_of_Property_25_50_Crores  Loss_of_Property_50_100_Crores  \\\n",
       "0                            0.0                             0.0   \n",
       "1                            0.0                             0.0   \n",
       "2                            0.0                             0.0   \n",
       "3                            0.0                             0.0   \n",
       "4                            0.0                             0.0   \n",
       "\n",
       "   Loss_of_Property_Above_100_Crores  \n",
       "0                                0.0  \n",
       "1                                0.0  \n",
       "2                                0.0  \n",
       "3                                0.0  \n",
       "4                                0.0  "
      ]
     },
     "execution_count": 1,
     "metadata": {},
     "output_type": "execute_result"
    }
   ],
   "source": [
    "import numpy as np\n",
    "import pandas as pd\n",
    "df=pd.read_csv('31_Serious_fraud.csv')\n",
    "df.head()"
   ]
  },
  {
   "cell_type": "code",
   "execution_count": 2,
   "id": "1c64965c",
   "metadata": {
    "scrolled": true
   },
   "outputs": [
    {
     "data": {
      "text/html": [
       "<div>\n",
       "<style scoped>\n",
       "    .dataframe tbody tr th:only-of-type {\n",
       "        vertical-align: middle;\n",
       "    }\n",
       "\n",
       "    .dataframe tbody tr th {\n",
       "        vertical-align: top;\n",
       "    }\n",
       "\n",
       "    .dataframe thead th {\n",
       "        text-align: right;\n",
       "    }\n",
       "</style>\n",
       "<table border=\"1\" class=\"dataframe\">\n",
       "  <thead>\n",
       "    <tr style=\"text-align: right;\">\n",
       "      <th></th>\n",
       "      <th>Year</th>\n",
       "      <th>Loss_of_Property_1_10_Crores</th>\n",
       "      <th>Loss_of_Property_10_25_Crores</th>\n",
       "      <th>Loss_of_Property_25_50_Crores</th>\n",
       "      <th>Loss_of_Property_50_100_Crores</th>\n",
       "      <th>Loss_of_Property_Above_100_Crores</th>\n",
       "    </tr>\n",
       "  </thead>\n",
       "  <tbody>\n",
       "    <tr>\n",
       "      <th>count</th>\n",
       "      <td>448.000000</td>\n",
       "      <td>444.000000</td>\n",
       "      <td>386.000000</td>\n",
       "      <td>382.000000</td>\n",
       "      <td>379.000000</td>\n",
       "      <td>377.000000</td>\n",
       "    </tr>\n",
       "    <tr>\n",
       "      <th>mean</th>\n",
       "      <td>2005.629464</td>\n",
       "      <td>19.569820</td>\n",
       "      <td>0.450777</td>\n",
       "      <td>0.238220</td>\n",
       "      <td>0.105541</td>\n",
       "      <td>0.058355</td>\n",
       "    </tr>\n",
       "    <tr>\n",
       "      <th>std</th>\n",
       "      <td>2.841247</td>\n",
       "      <td>183.022608</td>\n",
       "      <td>1.890210</td>\n",
       "      <td>1.180909</td>\n",
       "      <td>0.835360</td>\n",
       "      <td>0.337056</td>\n",
       "    </tr>\n",
       "    <tr>\n",
       "      <th>min</th>\n",
       "      <td>2001.000000</td>\n",
       "      <td>0.000000</td>\n",
       "      <td>0.000000</td>\n",
       "      <td>0.000000</td>\n",
       "      <td>0.000000</td>\n",
       "      <td>0.000000</td>\n",
       "    </tr>\n",
       "    <tr>\n",
       "      <th>25%</th>\n",
       "      <td>2003.000000</td>\n",
       "      <td>0.000000</td>\n",
       "      <td>0.000000</td>\n",
       "      <td>0.000000</td>\n",
       "      <td>0.000000</td>\n",
       "      <td>0.000000</td>\n",
       "    </tr>\n",
       "    <tr>\n",
       "      <th>50%</th>\n",
       "      <td>2006.000000</td>\n",
       "      <td>0.000000</td>\n",
       "      <td>0.000000</td>\n",
       "      <td>0.000000</td>\n",
       "      <td>0.000000</td>\n",
       "      <td>0.000000</td>\n",
       "    </tr>\n",
       "    <tr>\n",
       "      <th>75%</th>\n",
       "      <td>2008.000000</td>\n",
       "      <td>4.000000</td>\n",
       "      <td>0.000000</td>\n",
       "      <td>0.000000</td>\n",
       "      <td>0.000000</td>\n",
       "      <td>0.000000</td>\n",
       "    </tr>\n",
       "    <tr>\n",
       "      <th>max</th>\n",
       "      <td>2010.000000</td>\n",
       "      <td>3131.000000</td>\n",
       "      <td>23.000000</td>\n",
       "      <td>15.000000</td>\n",
       "      <td>15.000000</td>\n",
       "      <td>5.000000</td>\n",
       "    </tr>\n",
       "  </tbody>\n",
       "</table>\n",
       "</div>"
      ],
      "text/plain": [
       "              Year  Loss_of_Property_1_10_Crores  \\\n",
       "count   448.000000                    444.000000   \n",
       "mean   2005.629464                     19.569820   \n",
       "std       2.841247                    183.022608   \n",
       "min    2001.000000                      0.000000   \n",
       "25%    2003.000000                      0.000000   \n",
       "50%    2006.000000                      0.000000   \n",
       "75%    2008.000000                      4.000000   \n",
       "max    2010.000000                   3131.000000   \n",
       "\n",
       "       Loss_of_Property_10_25_Crores  Loss_of_Property_25_50_Crores  \\\n",
       "count                     386.000000                     382.000000   \n",
       "mean                        0.450777                       0.238220   \n",
       "std                         1.890210                       1.180909   \n",
       "min                         0.000000                       0.000000   \n",
       "25%                         0.000000                       0.000000   \n",
       "50%                         0.000000                       0.000000   \n",
       "75%                         0.000000                       0.000000   \n",
       "max                        23.000000                      15.000000   \n",
       "\n",
       "       Loss_of_Property_50_100_Crores  Loss_of_Property_Above_100_Crores  \n",
       "count                      379.000000                         377.000000  \n",
       "mean                         0.105541                           0.058355  \n",
       "std                          0.835360                           0.337056  \n",
       "min                          0.000000                           0.000000  \n",
       "25%                          0.000000                           0.000000  \n",
       "50%                          0.000000                           0.000000  \n",
       "75%                          0.000000                           0.000000  \n",
       "max                         15.000000                           5.000000  "
      ]
     },
     "execution_count": 2,
     "metadata": {},
     "output_type": "execute_result"
    }
   ],
   "source": [
    "df.describe()"
   ]
  },
  {
   "cell_type": "markdown",
   "id": "a130d387",
   "metadata": {},
   "source": [
    "#des operations"
   ]
  },
  {
   "cell_type": "code",
   "execution_count": 8,
   "id": "ba04542e",
   "metadata": {},
   "outputs": [],
   "source": [
    "f=df['Year'].values"
   ]
  },
  {
   "cell_type": "code",
   "execution_count": 9,
   "id": "d6329a15",
   "metadata": {},
   "outputs": [
    {
     "data": {
      "text/plain": [
       "array([2001, 2001, 2001, 2001, 2001, 2001, 2001, 2001, 2001, 2001, 2001,\n",
       "       2001, 2001, 2001, 2001, 2001, 2001, 2001, 2001, 2001, 2001, 2002,\n",
       "       2002, 2002, 2002, 2002, 2002, 2002, 2002, 2002, 2002, 2002, 2002,\n",
       "       2002, 2002, 2002, 2002, 2002, 2002, 2002, 2003, 2003, 2003, 2003,\n",
       "       2003, 2003, 2003, 2003, 2003, 2003, 2003, 2003, 2003, 2003, 2003,\n",
       "       2003, 2003, 2003, 2003, 2003, 2003, 2003, 2003, 2004, 2004, 2004,\n",
       "       2004, 2004, 2004, 2004, 2004, 2004, 2004, 2004, 2004, 2004, 2004,\n",
       "       2004, 2004, 2004, 2004, 2004, 2004, 2004, 2005, 2005, 2005, 2005,\n",
       "       2005, 2005, 2005, 2005, 2005, 2005, 2005, 2005, 2005, 2005, 2005,\n",
       "       2005, 2005, 2005, 2005, 2005, 2005, 2005, 2005, 2005, 2006, 2006,\n",
       "       2006, 2006, 2006, 2006, 2006, 2006, 2006, 2006, 2006, 2006, 2006,\n",
       "       2006, 2006, 2006, 2006, 2006, 2006, 2006, 2006, 2006, 2006, 2007,\n",
       "       2007, 2007, 2007, 2007, 2007, 2007, 2007, 2007, 2007, 2007, 2007,\n",
       "       2007, 2007, 2007, 2007, 2007, 2007, 2007, 2007, 2007, 2007, 2007,\n",
       "       2007, 2007, 2008, 2008, 2008, 2008, 2008, 2008, 2008, 2008, 2008,\n",
       "       2008, 2008, 2008, 2008, 2008, 2008, 2008, 2008, 2008, 2008, 2008,\n",
       "       2008, 2008, 2009, 2009, 2009, 2009, 2009, 2009, 2009, 2009, 2009,\n",
       "       2009, 2009, 2009, 2009, 2009, 2009, 2009, 2009, 2009, 2009, 2009,\n",
       "       2009, 2009, 2009, 2009, 2010, 2010, 2010, 2010, 2010, 2010, 2010,\n",
       "       2010, 2010, 2010, 2010, 2010, 2010, 2010, 2010, 2010, 2010, 2010,\n",
       "       2010, 2010, 2010, 2010, 2010, 2001, 2001, 2001, 2001, 2001, 2001,\n",
       "       2001, 2001, 2001, 2001, 2001, 2001, 2001, 2001, 2001, 2001, 2001,\n",
       "       2001, 2001, 2001, 2001, 2001, 2002, 2002, 2002, 2002, 2002, 2002,\n",
       "       2002, 2002, 2002, 2002, 2002, 2002, 2002, 2002, 2002, 2002, 2002,\n",
       "       2002, 2003, 2003, 2003, 2003, 2003, 2003, 2003, 2003, 2003, 2003,\n",
       "       2003, 2003, 2003, 2003, 2003, 2003, 2003, 2003, 2003, 2003, 2003,\n",
       "       2003, 2003, 2004, 2004, 2004, 2004, 2004, 2004, 2004, 2004, 2004,\n",
       "       2004, 2004, 2004, 2004, 2004, 2004, 2004, 2004, 2004, 2004, 2004,\n",
       "       2005, 2005, 2005, 2005, 2005, 2005, 2005, 2005, 2005, 2005, 2005,\n",
       "       2005, 2005, 2005, 2005, 2005, 2005, 2005, 2005, 2005, 2005, 2005,\n",
       "       2005, 2006, 2006, 2006, 2006, 2006, 2006, 2006, 2006, 2006, 2006,\n",
       "       2006, 2006, 2006, 2006, 2006, 2006, 2006, 2006, 2006, 2006, 2006,\n",
       "       2006, 2007, 2007, 2007, 2007, 2007, 2007, 2007, 2007, 2007, 2007,\n",
       "       2007, 2007, 2007, 2007, 2007, 2007, 2007, 2007, 2007, 2007, 2007,\n",
       "       2007, 2007, 2007, 2007, 2007, 2008, 2008, 2008, 2008, 2008, 2008,\n",
       "       2008, 2008, 2008, 2008, 2008, 2008, 2008, 2008, 2008, 2008, 2008,\n",
       "       2008, 2008, 2008, 2008, 2008, 2008, 2008, 2009, 2009, 2009, 2009,\n",
       "       2009, 2009, 2009, 2009, 2009, 2009, 2009, 2009, 2009, 2009, 2009,\n",
       "       2009, 2009, 2009, 2009, 2009, 2009, 2009, 2009, 2010, 2010, 2010,\n",
       "       2010, 2010, 2010, 2010, 2010, 2010, 2010, 2010, 2010, 2010, 2010,\n",
       "       2010, 2010, 2010, 2010, 2010, 2010, 2010, 2010], dtype=int64)"
      ]
     },
     "execution_count": 9,
     "metadata": {},
     "output_type": "execute_result"
    }
   ],
   "source": [
    "f"
   ]
  },
  {
   "cell_type": "code",
   "execution_count": 10,
   "id": "f5661a0a",
   "metadata": {},
   "outputs": [
    {
     "data": {
      "text/plain": [
       "2001"
      ]
     },
     "execution_count": 10,
     "metadata": {},
     "output_type": "execute_result"
    }
   ],
   "source": [
    "df['Year'].min()"
   ]
  },
  {
   "cell_type": "code",
   "execution_count": 12,
   "id": "ea27c914",
   "metadata": {},
   "outputs": [
    {
     "data": {
      "text/plain": [
       "2010"
      ]
     },
     "execution_count": 12,
     "metadata": {},
     "output_type": "execute_result"
    }
   ],
   "source": [
    "df['Year'].max()\n"
   ]
  },
  {
   "cell_type": "code",
   "execution_count": 19,
   "id": "564d0a88",
   "metadata": {},
   "outputs": [
    {
     "name": "stdout",
     "output_type": "stream",
     "text": [
      "2005.6294642857142\n"
     ]
    }
   ],
   "source": [
    "# Calculer la moyenne des valeurs dans la colonne 'Year'\n",
    "moyenne_year = df['Year'].mean()\n"
   ]
  },
  {
   "cell_type": "code",
   "execution_count": 20,
   "id": "0947d51f",
   "metadata": {},
   "outputs": [
    {
     "name": "stdout",
     "output_type": "stream",
     "text": [
      "<class 'pandas.core.frame.DataFrame'>\n",
      "RangeIndex: 448 entries, 0 to 447\n",
      "Data columns (total 9 columns):\n",
      " #   Column                             Non-Null Count  Dtype  \n",
      "---  ------                             --------------  -----  \n",
      " 0   Area_Name                          448 non-null    object \n",
      " 1   Year                               448 non-null    int64  \n",
      " 2   Group_Name                         448 non-null    object \n",
      " 3   Sub_Group_Name                     448 non-null    object \n",
      " 4   Loss_of_Property_1_10_Crores       444 non-null    float64\n",
      " 5   Loss_of_Property_10_25_Crores      386 non-null    float64\n",
      " 6   Loss_of_Property_25_50_Crores      382 non-null    float64\n",
      " 7   Loss_of_Property_50_100_Crores     379 non-null    float64\n",
      " 8   Loss_of_Property_Above_100_Crores  377 non-null    float64\n",
      "dtypes: float64(5), int64(1), object(3)\n",
      "memory usage: 31.6+ KB\n"
     ]
    }
   ],
   "source": [
    "# Afficher des informations sur le DataFrame\n",
    "df.info()"
   ]
  },
  {
   "cell_type": "code",
   "execution_count": 21,
   "id": "588487d1",
   "metadata": {},
   "outputs": [],
   "source": [
    "# Accéder à une colonne spécifique\n",
    "nom_colonne = df['Year']"
   ]
  },
  {
   "cell_type": "code",
   "execution_count": null,
   "id": "5a017252",
   "metadata": {},
   "outputs": [],
   "source": []
  }
 ],
 "metadata": {
  "kernelspec": {
   "display_name": "Python 3 (ipykernel)",
   "language": "python",
   "name": "python3"
  },
  "language_info": {
   "codemirror_mode": {
    "name": "ipython",
    "version": 3
   },
   "file_extension": ".py",
   "mimetype": "text/x-python",
   "name": "python",
   "nbconvert_exporter": "python",
   "pygments_lexer": "ipython3",
   "version": "3.11.5"
  }
 },
 "nbformat": 4,
 "nbformat_minor": 5
}
